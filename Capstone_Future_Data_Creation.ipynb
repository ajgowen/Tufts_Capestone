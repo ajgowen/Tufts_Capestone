{
 "cells": [
  {
   "cell_type": "code",
   "execution_count": 7,
   "metadata": {},
   "outputs": [
    {
     "name": "stdout",
     "output_type": "stream",
     "text": [
      "         date  global_land_temp  global_ocean_temp  co2_levels state_code\n",
      "0      203001               0.5                0.3         350         AL\n",
      "1      203001               0.5                0.3         350         AZ\n",
      "2      203001               0.5                0.3         350         AR\n",
      "3      203001               0.5                0.3         350         CA\n",
      "4      203001               0.5                0.3         350         CO\n",
      "...       ...               ...                ...         ...        ...\n",
      "71995  203012               2.9                1.3         450         VA\n",
      "71996  203012               2.9                1.3         450         WA\n",
      "71997  203012               2.9                1.3         450         WV\n",
      "71998  203012               2.9                1.3         450         WI\n",
      "71999  203012               2.9                1.3         450         WY\n",
      "\n",
      "[72000 rows x 5 columns]\n"
     ]
    }
   ],
   "source": [
    "# Create input dataframe for future predictions\n",
    "\n",
    "import pandas as pd\n",
    "from itertools import product\n",
    "\n",
    "# Dates\n",
    "dates = ['203001','203002','203003','203004','203005','203006','203007','203008','203009','203010','203011','203012',]\n",
    "\n",
    "# Range: -.93 (~195102) --> .5 --> 2.52 (201602)\n",
    "global_land_temps = [.5, 1.1, 1.7, 2.3, 2.9]\n",
    "# Range: -.22 (~195412) --> .3 --> 1.04 (202402)\n",
    "global_ocean_temps = [0.3, 0.7, 0.9, 1.1, 1.3]\n",
    "# Range Deseasonalized: 314.44 (195803) --> 359 (1996) --> 426.12 (202412)\n",
    "co2_levels = [350, 375, 400, 425, 450]\n",
    "\n",
    "# All 50\n",
    "state_codes = [\n",
    "    'AL', 'AZ', 'AR', 'CA', 'CO', 'CT', 'DE', 'FL', 'GA',\n",
    "    'ID', 'IL', 'IN', 'IA', 'KS', 'KY', 'LA', 'ME', 'MD',\n",
    "    'MA', 'MI', 'MN', 'MS', 'MO', 'MT', 'NE', 'NV', 'NH', 'NJ',\n",
    "    'NM', 'NY', 'NC', 'ND', 'OH', 'OK', 'OR', 'PA', 'RI', 'SC',\n",
    "    'SD', 'TN', 'TX', 'UT', 'VT', 'VA', 'WA', 'WV', 'WI', 'WY'\n",
    "]\n",
    "\n",
    "# Generate all unique combinations using Cartesian product\n",
    "combinations = list(product(dates, global_land_temps, global_ocean_temps, co2_levels, state_codes))\n",
    "\n",
    "# Create DataFrame\n",
    "df = pd.DataFrame(combinations, columns=[\n",
    "    'date', 'global_land_temp', 'global_ocean_temp', 'co2_levels', 'state_code'\n",
    "])\n",
    "\n",
    "#DataFrame\n",
    "print(df)\n",
    "\n",
    "\n",
    "# 124416 rows\n"
   ]
  },
  {
   "cell_type": "code",
   "execution_count": 8,
   "metadata": {},
   "outputs": [
    {
     "name": "stdout",
     "output_type": "stream",
     "text": [
      "Table '_input_predicting_table' has been created successfully.\n"
     ]
    }
   ],
   "source": [
    "# Process climate change data into one table containing both global temps and co2 levels \n",
    "\n",
    "import pandas as pd\n",
    "from sqlalchemy import create_engine, text\n",
    "\n",
    "# Configuration\n",
    "DB_CONFIG = {\n",
    "    \"username\": \"agowen\",  # Replace with PostgreSQL username\n",
    "    \"password\": \"Capstone\",  # Replace with PostgreSQL password\n",
    "    \"host\": \"localhost\",          # Replace with PostgreSQL host\n",
    "    \"port\": 5432,                 # Replace with PostgreSQL port (default: 5432)\n",
    "    \"database\": \"capstone\"      # Replace with PostgreSQL database name                              # Update DB Name\n",
    "}\n",
    "\n",
    "# Connection string for PostgreSQL\n",
    "CONN_STRING = f\"postgresql://{DB_CONFIG['username']}:{DB_CONFIG['password']}@\" \\\n",
    "              f\"{DB_CONFIG['host']}:{DB_CONFIG['port']}/{DB_CONFIG['database']}\"\n",
    "\n",
    "# Database setup\n",
    "engine = create_engine(CONN_STRING)\n",
    "\n",
    "def create_full_climate_change_data_table():\n",
    "    try:\n",
    "            \n",
    "        with engine.connect() as connection:\n",
    "            \n",
    "            query = text(f\"\"\"\n",
    "            select * from state_region_mapping\n",
    "                                 \"\"\")\n",
    "            df_state_info = pd.read_sql(query, connection)\n",
    "    \n",
    "        result_df = pd.merge(df,df_state_info, on='state_code',how='inner')\n",
    "\n",
    "\n",
    "        # Create a new table to store the transformed data\n",
    "        new_table_name = \"_input_predicting_table\"                                                        # update new table name if needed \n",
    "        result_df.to_sql(new_table_name, engine, if_exists=\"replace\", index=False)\n",
    "        print(f\"Table '{new_table_name}' has been created successfully.\")\n",
    "\n",
    "    except Exception as e:\n",
    "        print(f\"Error: {e}\")\n",
    "\n",
    "def main():\n",
    "    create_full_climate_change_data_table()\n",
    "\n",
    "if __name__ == \"__main__\":\n",
    "    main()\n"
   ]
  }
 ],
 "metadata": {
  "kernelspec": {
   "display_name": "base",
   "language": "python",
   "name": "python3"
  },
  "language_info": {
   "codemirror_mode": {
    "name": "ipython",
    "version": 3
   },
   "file_extension": ".py",
   "mimetype": "text/x-python",
   "name": "python",
   "nbconvert_exporter": "python",
   "pygments_lexer": "ipython3",
   "version": "3.9.21"
  }
 },
 "nbformat": 4,
 "nbformat_minor": 2
}
